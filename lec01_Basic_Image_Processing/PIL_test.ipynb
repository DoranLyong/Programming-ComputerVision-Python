{
 "metadata": {
  "language_info": {
   "codemirror_mode": {
    "name": "ipython",
    "version": 3
   },
   "file_extension": ".py",
   "mimetype": "text/x-python",
   "name": "python",
   "nbconvert_exporter": "python",
   "pygments_lexer": "ipython3",
   "version": "3.7.0"
  },
  "orig_nbformat": 4,
  "kernelspec": {
   "name": "python3",
   "display_name": "Python 3.7.0 64-bit ('py37': conda)"
  },
  "interpreter": {
   "hash": "8f642086cb17cdaf6feafba299f33070ae5db0997396a4ca3f1c68c1dc00f47a"
  }
 },
 "nbformat": 4,
 "nbformat_minor": 2,
 "cells": [
  {
   "cell_type": "code",
   "execution_count": 1,
   "metadata": {},
   "outputs": [
    {
     "output_type": "stream",
     "name": "stderr",
     "text": [
      "INFO:root:Import from : /home/doranlyong/anaconda3/envs/py37/lib/python3.7/site-packages/CVLibs/tools/imtools.py\n"
     ]
    }
   ],
   "source": [
    "from PIL import Image\n",
    "\n",
    "from CVLibs.tools import imtools"
   ]
  },
  {
   "cell_type": "code",
   "execution_count": 6,
   "metadata": {},
   "outputs": [
    {
     "output_type": "stream",
     "name": "stdout",
     "text": [
      "['./data/dog.jpg', './data/cat.jpg']\n"
     ]
    }
   ],
   "source": [
    "img_list = imtools.get_imglist(\"./data\")\n",
    "print(img_list)"
   ]
  },
  {
   "cell_type": "code",
   "execution_count": 7,
   "metadata": {},
   "outputs": [],
   "source": [
    "pil_im = Image.open(img_list[1])\n",
    "pil_im.show()"
   ]
  },
  {
   "cell_type": "code",
   "execution_count": 9,
   "metadata": {},
   "outputs": [],
   "source": [
    "copy_pil = pil_im.copy()\n",
    "copy_pil.thumbnail((128,128))\n",
    "copy_pil.show()"
   ]
  },
  {
   "cell_type": "code",
   "execution_count": 10,
   "metadata": {},
   "outputs": [],
   "source": [
    "box = (50,50,600,600)  # RoI ; (x1, y1, x2, y2)\n",
    "region = pil_im.crop(box)\n",
    "\n",
    "region = region.transpose(Image.ROTATE_180)\n",
    "pil_im.paste(region,box)\n",
    "pil_im.show()\n"
   ]
  },
  {
   "cell_type": "code",
   "execution_count": 11,
   "metadata": {},
   "outputs": [],
   "source": [
    "out = pil_im.resize((128,128))\n",
    "out = pil_im.rotate(45)  # rotate 45 in counterclockwise \n",
    "out.show()"
   ]
  },
  {
   "cell_type": "code",
   "execution_count": null,
   "metadata": {},
   "outputs": [],
   "source": []
  }
 ]
}